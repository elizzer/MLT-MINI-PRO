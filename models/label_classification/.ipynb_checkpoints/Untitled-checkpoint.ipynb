{
 "cells": [
  {
   "cell_type": "code",
   "execution_count": 1,
   "id": "b3808d73-06ef-464d-8bd7-3cd63922a4dd",
   "metadata": {},
   "outputs": [],
   "source": [
    "import pandas as pd"
   ]
  },
  {
   "cell_type": "code",
   "execution_count": 2,
   "id": "19ba70d9-35ef-417e-ad64-f950677f4805",
   "metadata": {},
   "outputs": [
    {
     "data": {
      "text/html": [
       "<div>\n",
       "<style scoped>\n",
       "    .dataframe tbody tr th:only-of-type {\n",
       "        vertical-align: middle;\n",
       "    }\n",
       "\n",
       "    .dataframe tbody tr th {\n",
       "        vertical-align: top;\n",
       "    }\n",
       "\n",
       "    .dataframe thead th {\n",
       "        text-align: right;\n",
       "    }\n",
       "</style>\n",
       "<table border=\"1\" class=\"dataframe\">\n",
       "  <thead>\n",
       "    <tr style=\"text-align: right;\">\n",
       "      <th></th>\n",
       "      <th>comment_text</th>\n",
       "      <th>span</th>\n",
       "      <th>label</th>\n",
       "    </tr>\n",
       "  </thead>\n",
       "  <tbody>\n",
       "    <tr>\n",
       "      <th>0</th>\n",
       "      <td>Great post !\\r\\nJustin at the 150 apologizing...</td>\n",
       "      <td>[]</td>\n",
       "      <td>0</td>\n",
       "    </tr>\n",
       "    <tr>\n",
       "      <th>1</th>\n",
       "      <td>Mark Hume has always been the stereotypical Va...</td>\n",
       "      <td>[149, 150, 151, 152, 153, 154, 155, 156, 157, ...</td>\n",
       "      <td>1</td>\n",
       "    </tr>\n",
       "    <tr>\n",
       "      <th>2</th>\n",
       "      <td>Freakin maggots, I swear.</td>\n",
       "      <td>[]</td>\n",
       "      <td>1</td>\n",
       "    </tr>\n",
       "    <tr>\n",
       "      <th>3</th>\n",
       "      <td>so far the stupidest comments are about the NR...</td>\n",
       "      <td>[]</td>\n",
       "      <td>1</td>\n",
       "    </tr>\n",
       "    <tr>\n",
       "      <th>4</th>\n",
       "      <td>‘Stupidity is a more dangerous enemy of the go...</td>\n",
       "      <td>[]</td>\n",
       "      <td>0</td>\n",
       "    </tr>\n",
       "  </tbody>\n",
       "</table>\n",
       "</div>"
      ],
      "text/plain": [
       "                                        comment_text  \\\n",
       "0   Great post !\\r\\nJustin at the 150 apologizing...   \n",
       "1  Mark Hume has always been the stereotypical Va...   \n",
       "2                          Freakin maggots, I swear.   \n",
       "3  so far the stupidest comments are about the NR...   \n",
       "4  ‘Stupidity is a more dangerous enemy of the go...   \n",
       "\n",
       "                                                span  label  \n",
       "0                                                 []      0  \n",
       "1  [149, 150, 151, 152, 153, 154, 155, 156, 157, ...      1  \n",
       "2                                                 []      1  \n",
       "3                                                 []      1  \n",
       "4                                                 []      0  "
      ]
     },
     "execution_count": 2,
     "metadata": {},
     "output_type": "execute_result"
    }
   ],
   "source": [
    "df=pd.read_csv(\"../../datasets/dataset_removed_repeated_charcter.csv\")\n",
    "df.head()"
   ]
  },
  {
   "cell_type": "code",
   "execution_count": 3,
   "id": "f7fa76b1-c599-45db-b78d-3ea0d752eee4",
   "metadata": {},
   "outputs": [],
   "source": [
    "from sklearn.model_selection import train_test_split"
   ]
  },
  {
   "cell_type": "code",
   "execution_count": 4,
   "id": "68ab840a-2660-494e-a780-8794409a0835",
   "metadata": {},
   "outputs": [
    {
     "name": "stdout",
     "output_type": "stream",
     "text": [
      "0         Great post !\\r\\nJustin at the 150 apologizing...\n",
      "1        Mark Hume has always been the stereotypical Va...\n",
      "2                                Freakin maggots, I swear.\n",
      "3        so far the stupidest comments are about the NR...\n",
      "4        ‘Stupidity is a more dangerous enemy of the go...\n",
      "                               ...                        \n",
      "20466    He might have been sleazy but trump is both sl...\n",
      "20467    Seems like the single payer system would be be...\n",
      "20468                                               Idiot!\n",
      "20469    My only Question is:  3 staff attorneys chosen...\n",
      "20470    \"They look like fools\", ignorance must be blis...\n",
      "Name: comment_text, Length: 20471, dtype: object\n",
      "0        0\n",
      "1        1\n",
      "2        1\n",
      "3        1\n",
      "4        0\n",
      "        ..\n",
      "20466    0\n",
      "20467    0\n",
      "20468    1\n",
      "20469    0\n",
      "20470    1\n",
      "Name: label, Length: 20471, dtype: int64\n"
     ]
    }
   ],
   "source": [
    "X=df[\"comment_text\"]\n",
    "Y=df[\"label\"]\n",
    "print(X)\n",
    "print(Y)"
   ]
  },
  {
   "cell_type": "code",
   "execution_count": 5,
   "id": "29905d66-9aea-4d6f-ba26-a77d09ad560e",
   "metadata": {},
   "outputs": [],
   "source": [
    "X_train,X_test,Y_train,Y_test=train_test_split(X,Y,test_size=0.2)"
   ]
  },
  {
   "cell_type": "code",
   "execution_count": 6,
   "id": "7b47c399-998b-4a98-b60b-a5d447f111dc",
   "metadata": {},
   "outputs": [
    {
     "name": "stderr",
     "output_type": "stream",
     "text": [
      "c:\\users\\ravic\\appdata\\local\\programs\\python\\python39\\lib\\site-packages\\tqdm\\auto.py:21: TqdmWarning: IProgress not found. Please update jupyter and ipywidgets. See https://ipywidgets.readthedocs.io/en/stable/user_install.html\n",
      "  from .autonotebook import tqdm as notebook_tqdm\n"
     ]
    }
   ],
   "source": [
    "from transformers import BertTokenizer,BertModel"
   ]
  },
  {
   "cell_type": "code",
   "execution_count": 7,
   "id": "5e5fc552-9851-4283-a801-4c95ec4c5f71",
   "metadata": {},
   "outputs": [],
   "source": [
    "tokenizer = BertTokenizer.from_pretrained(\"bert-base-uncased\")\n",
    "MAX_LEN=512"
   ]
  },
  {
   "cell_type": "code",
   "execution_count": null,
   "id": "bae931ef-2a18-421b-a1ec-0a10a3d8a55e",
   "metadata": {},
   "outputs": [],
   "source": []
  },
  {
   "cell_type": "code",
   "execution_count": 10,
   "id": "b8e92315-eaad-4357-a12b-1c27b017ba3e",
   "metadata": {},
   "outputs": [],
   "source": [
    "import torch\n",
    "import torch.nn as nn\n",
    "\n",
    "class CustomDataset(torch.utils.data.Dataset):\n",
    "        def __init__(self, df, tokenizer, max_len):\n",
    "            self.df = df\n",
    "            self.tokenizer = tokenzier\n",
    "            self.max.len= max_len\n",
    "            self.title=X\n",
    "            self.targets=Y\n",
    "        def __len__(self):\n",
    "            return len(self.title)\n",
    "\n",
    "        def __getitem__(self,index):\n",
    "            title = str(self.title[index])\n",
    "            title = \" \".join(title.split())\n",
    "\n",
    "            inputs = self.tokenizer.encode_plus(\n",
    "                title,None,\n",
    "                add_special_token=True,\n",
    "                max_length=self.max_len,\n",
    "                padding='max_length',\n",
    "                return_token_type_ids=True,\n",
    "                truncation=True,\n",
    "                return_attention_mack=True,\n",
    "                return_tensors='pt'\n",
    "            )\n",
    "\n",
    "            return{\n",
    "                'input_ids': inputs['input_ids'].flatten(),\n",
    "                'attention_mask': inputs['attention_mask'].flatten(),\n",
    "                'token_type_ids': inputs['token_type_ids'].flatten(),\n",
    "                'targets': torch.FloatTensor(self.targets[index])\n",
    "            }\n",
    "                "
   ]
  },
  {
   "cell_type": "code",
   "execution_count": 13,
   "id": "667dca6e-ff94-4de4-a41a-3ca8f99629a8",
   "metadata": {},
   "outputs": [
    {
     "data": {
      "text/plain": [
       "array([0, 1, 1, ..., 1, 0, 1], dtype=int64)"
      ]
     },
     "execution_count": 13,
     "metadata": {},
     "output_type": "execute_result"
    }
   ],
   "source": [
    " Y.values"
   ]
  },
  {
   "cell_type": "code",
   "execution_count": 19,
   "id": "488b65f7-c194-4b15-9604-54ea9fb42870",
   "metadata": {},
   "outputs": [
    {
     "name": "stdout",
     "output_type": "stream",
     "text": [
      "                                                 message  label\n",
      "6164                     Donal Trump is simply pathetic.      1\n",
      "15171  Agreed. You deal hard core drugs, you get put ...      0\n",
      "9296   It's just a brainwashing university, just one ...      0\n",
      "3761      You can't fix stupid.\\r\\nBut you can fight it.      1\n",
      "315                               Clown for a clown town      1\n",
      "                                                 message  label\n",
      "3711   \"because of the actions of a fringe group\"?\\r\\...      0\n",
      "7963   Dumb Dumb Donald is true to his word:\\r\\n\\r\\nM...      1\n",
      "18363  looking at it...trying to understand how this ...      1\n",
      "20212  Trapping is an act of anachronistic, blood-lus...      1\n",
      "16795  This article,  a Brookings Institution Study d...      0\n"
     ]
    }
   ],
   "source": [
    "train_size=0.8\n",
    "train_df={}\n",
    "train_df[\"message\"]=X_train\n",
    "train_df[\"label\"]=Y_train\n",
    "\n",
    "train_df=pd.DataFrame(train_df)\n",
    "\n",
    "\n",
    "val_df={}\n",
    "\n",
    "val_df[\"message\"]=X_test\n",
    "val_df[\"label\"]=Y_test\n",
    "val_df=pd.DataFrame(val_df)\n",
    "\n",
    "print(train_df.head())\n",
    "print(val_df.head())"
   ]
  },
  {
   "cell_type": "code",
   "execution_count": null,
   "id": "78bc61c4-09ce-4a6a-8b45-6383e60e6f2b",
   "metadata": {},
   "outputs": [],
   "source": [
    "train_dataset=CustomDataset(train_df,tokenizer,MAX_LEN)"
   ]
  }
 ],
 "metadata": {
  "kernelspec": {
   "display_name": "Python 3 (ipykernel)",
   "language": "python",
   "name": "python3"
  },
  "language_info": {
   "codemirror_mode": {
    "name": "ipython",
    "version": 3
   },
   "file_extension": ".py",
   "mimetype": "text/x-python",
   "name": "python",
   "nbconvert_exporter": "python",
   "pygments_lexer": "ipython3",
   "version": "3.9.5"
  }
 },
 "nbformat": 4,
 "nbformat_minor": 5
}
